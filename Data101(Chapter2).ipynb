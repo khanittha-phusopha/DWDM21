{
  "nbformat": 4,
  "nbformat_minor": 0,
  "metadata": {
    "colab": {
      "name": "Data101(Chapter2).ipynb",
      "provenance": [],
      "authorship_tag": "ABX9TyMXURJUnFG6TOtSdcxpSz2+",
      "include_colab_link": true
    },
    "kernelspec": {
      "name": "python3",
      "display_name": "Python 3"
    },
    "language_info": {
      "name": "python"
    }
  },
  "cells": [
    {
      "cell_type": "markdown",
      "metadata": {
        "id": "view-in-github",
        "colab_type": "text"
      },
      "source": [
        "<a href=\"https://colab.research.google.com/github/khanittha-phusopha/DWDM21/blob/main/Data101(Chapter2).ipynb\" target=\"_parent\"><img src=\"https://colab.research.google.com/assets/colab-badge.svg\" alt=\"Open In Colab\"/></a>"
      ]
    },
    {
      "cell_type": "markdown",
      "metadata": {
        "id": "YAMpibFCu7Jt"
      },
      "source": [
        "ข้อดีหนึ่งของ python คือ package สำหรับทำงานต่างๆมากมาย \n",
        "\n",
        "ซึ่ง pandas เป็น Package สำหรับการทำงานกับข้อมูลที่อยู่ในรูปแบบตารางโดย pandas \n",
        "\n",
        "จะเรียกตารางว่า datafram"
      ]
    },
    {
      "cell_type": "code",
      "metadata": {
        "id": "huMmMgMMvvA0"
      },
      "source": [
        "import pandas #เรียกใช้ package โดยการ import ต่อด้วยชื่อ package"
      ],
      "execution_count": 6,
      "outputs": []
    },
    {
      "cell_type": "code",
      "metadata": {
        "id": "5KTG3EwBv-0v"
      },
      "source": [
        "import pandas as pd #เป็นการ import เหมือนกันแต่เปลี่ยนการตั้งชื่อให้ package ที่โหลดมาใหม่ว่า pd "
      ],
      "execution_count": 7,
      "outputs": []
    },
    {
      "cell_type": "markdown",
      "metadata": {
        "id": "gRbC5s_vxVA8"
      },
      "source": [
        "ไฟล์.csv (csv=comma separated values) เป็นไฟล์หลักที่จะต้องใช้ในวิชานี้"
      ]
    }
  ]
}