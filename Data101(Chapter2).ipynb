{
  "nbformat": 4,
  "nbformat_minor": 0,
  "metadata": {
    "colab": {
      "name": "Data101(Chapter2).ipynb",
      "provenance": [],
      "authorship_tag": "ABX9TyNkwUi/aVjAdxE0zd57Kb8f",
      "include_colab_link": true
    },
    "kernelspec": {
      "name": "python3",
      "display_name": "Python 3"
    },
    "language_info": {
      "name": "python"
    }
  },
  "cells": [
    {
      "cell_type": "markdown",
      "metadata": {
        "id": "view-in-github",
        "colab_type": "text"
      },
      "source": [
        "<a href=\"https://colab.research.google.com/github/khanittha-phusopha/DWDM21/blob/main/Data101(Chapter2).ipynb\" target=\"_parent\"><img src=\"https://colab.research.google.com/assets/colab-badge.svg\" alt=\"Open In Colab\"/></a>"
      ]
    },
    {
      "cell_type": "markdown",
      "metadata": {
        "id": "YAMpibFCu7Jt"
      },
      "source": [
        "ข้อดีหนึ่งของ python คือ package สำหรับทำงานต่างๆมากมาย \n",
        "\n",
        "ซึ่ง pandas เป็น Package สำหรับการทำงานกับข้อมูลที่อยู่ในรูปแบบตารางโดย pandas \n",
        "\n",
        "จะเรียกตารางว่า datafram"
      ]
    },
    {
      "cell_type": "code",
      "metadata": {
        "id": "huMmMgMMvvA0"
      },
      "source": [
        "import pandas #เรียกใช้ package โดยการ import ต่อด้วยชื่อ package"
      ],
      "execution_count": null,
      "outputs": []
    },
    {
      "cell_type": "code",
      "metadata": {
        "id": "5KTG3EwBv-0v"
      },
      "source": [
        "import pandas as pd #เป็นการ import เหมือนกันแต่เปลี่ยนการตั้งชื่อให้ package ที่โหลดมาใหม่ว่า pd "
      ],
      "execution_count": null,
      "outputs": []
    },
    {
      "cell_type": "markdown",
      "metadata": {
        "id": "gRbC5s_vxVA8"
      },
      "source": [
        "ไฟล์.csv (csv=comma separated values) เป็นไฟล์หลักที่จะต้องใช้ในวิชานี้"
      ]
    },
    {
      "cell_type": "code",
      "metadata": {
        "id": "DzjTlYNhbwx9",
        "colab": {
          "base_uri": "https://localhost:8080/",
          "height": 372
        },
        "outputId": "b0074dfb-b8c5-4fa3-e916-ce8ae10aeda0"
      },
      "source": [
        "data_df = pd.read_csv('data.csv')    #ใช้คำสั่งเพื่อนำ data เข้ามา"
      ],
      "execution_count": null,
      "outputs": [
        {
          "output_type": "error",
          "ename": "FileNotFoundError",
          "evalue": "ignored",
          "traceback": [
            "\u001b[0;31m---------------------------------------------------------------------------\u001b[0m",
            "\u001b[0;31mFileNotFoundError\u001b[0m                         Traceback (most recent call last)",
            "\u001b[0;32m<ipython-input-4-35887d405b3e>\u001b[0m in \u001b[0;36m<module>\u001b[0;34m()\u001b[0m\n\u001b[0;32m----> 1\u001b[0;31m \u001b[0mdata_df\u001b[0m \u001b[0;34m=\u001b[0m \u001b[0mpd\u001b[0m\u001b[0;34m.\u001b[0m\u001b[0mread_csv\u001b[0m\u001b[0;34m(\u001b[0m\u001b[0;34m'data.csv'\u001b[0m\u001b[0;34m)\u001b[0m    \u001b[0;31m#ใช้คำสั่งเพื่อนำ data เข้ามา\u001b[0m\u001b[0;34m\u001b[0m\u001b[0;34m\u001b[0m\u001b[0m\n\u001b[0m",
            "\u001b[0;32m/usr/local/lib/python3.7/dist-packages/pandas/io/parsers.py\u001b[0m in \u001b[0;36mread_csv\u001b[0;34m(filepath_or_buffer, sep, delimiter, header, names, index_col, usecols, squeeze, prefix, mangle_dupe_cols, dtype, engine, converters, true_values, false_values, skipinitialspace, skiprows, skipfooter, nrows, na_values, keep_default_na, na_filter, verbose, skip_blank_lines, parse_dates, infer_datetime_format, keep_date_col, date_parser, dayfirst, cache_dates, iterator, chunksize, compression, thousands, decimal, lineterminator, quotechar, quoting, doublequote, escapechar, comment, encoding, dialect, error_bad_lines, warn_bad_lines, delim_whitespace, low_memory, memory_map, float_precision)\u001b[0m\n\u001b[1;32m    686\u001b[0m     )\n\u001b[1;32m    687\u001b[0m \u001b[0;34m\u001b[0m\u001b[0m\n\u001b[0;32m--> 688\u001b[0;31m     \u001b[0;32mreturn\u001b[0m \u001b[0m_read\u001b[0m\u001b[0;34m(\u001b[0m\u001b[0mfilepath_or_buffer\u001b[0m\u001b[0;34m,\u001b[0m \u001b[0mkwds\u001b[0m\u001b[0;34m)\u001b[0m\u001b[0;34m\u001b[0m\u001b[0;34m\u001b[0m\u001b[0m\n\u001b[0m\u001b[1;32m    689\u001b[0m \u001b[0;34m\u001b[0m\u001b[0m\n\u001b[1;32m    690\u001b[0m \u001b[0;34m\u001b[0m\u001b[0m\n",
            "\u001b[0;32m/usr/local/lib/python3.7/dist-packages/pandas/io/parsers.py\u001b[0m in \u001b[0;36m_read\u001b[0;34m(filepath_or_buffer, kwds)\u001b[0m\n\u001b[1;32m    452\u001b[0m \u001b[0;34m\u001b[0m\u001b[0m\n\u001b[1;32m    453\u001b[0m     \u001b[0;31m# Create the parser.\u001b[0m\u001b[0;34m\u001b[0m\u001b[0;34m\u001b[0m\u001b[0;34m\u001b[0m\u001b[0m\n\u001b[0;32m--> 454\u001b[0;31m     \u001b[0mparser\u001b[0m \u001b[0;34m=\u001b[0m \u001b[0mTextFileReader\u001b[0m\u001b[0;34m(\u001b[0m\u001b[0mfp_or_buf\u001b[0m\u001b[0;34m,\u001b[0m \u001b[0;34m**\u001b[0m\u001b[0mkwds\u001b[0m\u001b[0;34m)\u001b[0m\u001b[0;34m\u001b[0m\u001b[0;34m\u001b[0m\u001b[0m\n\u001b[0m\u001b[1;32m    455\u001b[0m \u001b[0;34m\u001b[0m\u001b[0m\n\u001b[1;32m    456\u001b[0m     \u001b[0;32mif\u001b[0m \u001b[0mchunksize\u001b[0m \u001b[0;32mor\u001b[0m \u001b[0miterator\u001b[0m\u001b[0;34m:\u001b[0m\u001b[0;34m\u001b[0m\u001b[0;34m\u001b[0m\u001b[0m\n",
            "\u001b[0;32m/usr/local/lib/python3.7/dist-packages/pandas/io/parsers.py\u001b[0m in \u001b[0;36m__init__\u001b[0;34m(self, f, engine, **kwds)\u001b[0m\n\u001b[1;32m    946\u001b[0m             \u001b[0mself\u001b[0m\u001b[0;34m.\u001b[0m\u001b[0moptions\u001b[0m\u001b[0;34m[\u001b[0m\u001b[0;34m\"has_index_names\"\u001b[0m\u001b[0;34m]\u001b[0m \u001b[0;34m=\u001b[0m \u001b[0mkwds\u001b[0m\u001b[0;34m[\u001b[0m\u001b[0;34m\"has_index_names\"\u001b[0m\u001b[0;34m]\u001b[0m\u001b[0;34m\u001b[0m\u001b[0;34m\u001b[0m\u001b[0m\n\u001b[1;32m    947\u001b[0m \u001b[0;34m\u001b[0m\u001b[0m\n\u001b[0;32m--> 948\u001b[0;31m         \u001b[0mself\u001b[0m\u001b[0;34m.\u001b[0m\u001b[0m_make_engine\u001b[0m\u001b[0;34m(\u001b[0m\u001b[0mself\u001b[0m\u001b[0;34m.\u001b[0m\u001b[0mengine\u001b[0m\u001b[0;34m)\u001b[0m\u001b[0;34m\u001b[0m\u001b[0;34m\u001b[0m\u001b[0m\n\u001b[0m\u001b[1;32m    949\u001b[0m \u001b[0;34m\u001b[0m\u001b[0m\n\u001b[1;32m    950\u001b[0m     \u001b[0;32mdef\u001b[0m \u001b[0mclose\u001b[0m\u001b[0;34m(\u001b[0m\u001b[0mself\u001b[0m\u001b[0;34m)\u001b[0m\u001b[0;34m:\u001b[0m\u001b[0;34m\u001b[0m\u001b[0;34m\u001b[0m\u001b[0m\n",
            "\u001b[0;32m/usr/local/lib/python3.7/dist-packages/pandas/io/parsers.py\u001b[0m in \u001b[0;36m_make_engine\u001b[0;34m(self, engine)\u001b[0m\n\u001b[1;32m   1178\u001b[0m     \u001b[0;32mdef\u001b[0m \u001b[0m_make_engine\u001b[0m\u001b[0;34m(\u001b[0m\u001b[0mself\u001b[0m\u001b[0;34m,\u001b[0m \u001b[0mengine\u001b[0m\u001b[0;34m=\u001b[0m\u001b[0;34m\"c\"\u001b[0m\u001b[0;34m)\u001b[0m\u001b[0;34m:\u001b[0m\u001b[0;34m\u001b[0m\u001b[0;34m\u001b[0m\u001b[0m\n\u001b[1;32m   1179\u001b[0m         \u001b[0;32mif\u001b[0m \u001b[0mengine\u001b[0m \u001b[0;34m==\u001b[0m \u001b[0;34m\"c\"\u001b[0m\u001b[0;34m:\u001b[0m\u001b[0;34m\u001b[0m\u001b[0;34m\u001b[0m\u001b[0m\n\u001b[0;32m-> 1180\u001b[0;31m             \u001b[0mself\u001b[0m\u001b[0;34m.\u001b[0m\u001b[0m_engine\u001b[0m \u001b[0;34m=\u001b[0m \u001b[0mCParserWrapper\u001b[0m\u001b[0;34m(\u001b[0m\u001b[0mself\u001b[0m\u001b[0;34m.\u001b[0m\u001b[0mf\u001b[0m\u001b[0;34m,\u001b[0m \u001b[0;34m**\u001b[0m\u001b[0mself\u001b[0m\u001b[0;34m.\u001b[0m\u001b[0moptions\u001b[0m\u001b[0;34m)\u001b[0m\u001b[0;34m\u001b[0m\u001b[0;34m\u001b[0m\u001b[0m\n\u001b[0m\u001b[1;32m   1181\u001b[0m         \u001b[0;32melse\u001b[0m\u001b[0;34m:\u001b[0m\u001b[0;34m\u001b[0m\u001b[0;34m\u001b[0m\u001b[0m\n\u001b[1;32m   1182\u001b[0m             \u001b[0;32mif\u001b[0m \u001b[0mengine\u001b[0m \u001b[0;34m==\u001b[0m \u001b[0;34m\"python\"\u001b[0m\u001b[0;34m:\u001b[0m\u001b[0;34m\u001b[0m\u001b[0;34m\u001b[0m\u001b[0m\n",
            "\u001b[0;32m/usr/local/lib/python3.7/dist-packages/pandas/io/parsers.py\u001b[0m in \u001b[0;36m__init__\u001b[0;34m(self, src, **kwds)\u001b[0m\n\u001b[1;32m   2008\u001b[0m         \u001b[0mkwds\u001b[0m\u001b[0;34m[\u001b[0m\u001b[0;34m\"usecols\"\u001b[0m\u001b[0;34m]\u001b[0m \u001b[0;34m=\u001b[0m \u001b[0mself\u001b[0m\u001b[0;34m.\u001b[0m\u001b[0musecols\u001b[0m\u001b[0;34m\u001b[0m\u001b[0;34m\u001b[0m\u001b[0m\n\u001b[1;32m   2009\u001b[0m \u001b[0;34m\u001b[0m\u001b[0m\n\u001b[0;32m-> 2010\u001b[0;31m         \u001b[0mself\u001b[0m\u001b[0;34m.\u001b[0m\u001b[0m_reader\u001b[0m \u001b[0;34m=\u001b[0m \u001b[0mparsers\u001b[0m\u001b[0;34m.\u001b[0m\u001b[0mTextReader\u001b[0m\u001b[0;34m(\u001b[0m\u001b[0msrc\u001b[0m\u001b[0;34m,\u001b[0m \u001b[0;34m**\u001b[0m\u001b[0mkwds\u001b[0m\u001b[0;34m)\u001b[0m\u001b[0;34m\u001b[0m\u001b[0;34m\u001b[0m\u001b[0m\n\u001b[0m\u001b[1;32m   2011\u001b[0m         \u001b[0mself\u001b[0m\u001b[0;34m.\u001b[0m\u001b[0munnamed_cols\u001b[0m \u001b[0;34m=\u001b[0m \u001b[0mself\u001b[0m\u001b[0;34m.\u001b[0m\u001b[0m_reader\u001b[0m\u001b[0;34m.\u001b[0m\u001b[0munnamed_cols\u001b[0m\u001b[0;34m\u001b[0m\u001b[0;34m\u001b[0m\u001b[0m\n\u001b[1;32m   2012\u001b[0m \u001b[0;34m\u001b[0m\u001b[0m\n",
            "\u001b[0;32mpandas/_libs/parsers.pyx\u001b[0m in \u001b[0;36mpandas._libs.parsers.TextReader.__cinit__\u001b[0;34m()\u001b[0m\n",
            "\u001b[0;32mpandas/_libs/parsers.pyx\u001b[0m in \u001b[0;36mpandas._libs.parsers.TextReader._setup_parser_source\u001b[0;34m()\u001b[0m\n",
            "\u001b[0;31mFileNotFoundError\u001b[0m: [Errno 2] No such file or directory: 'data.csv'"
          ]
        }
      ]
    },
    {
      "cell_type": "code",
      "metadata": {
        "id": "Cpjih8Mlb8Mn"
      },
      "source": [
        "data_df   #เรียกดู data"
      ],
      "execution_count": null,
      "outputs": []
    },
    {
      "cell_type": "code",
      "metadata": {
        "id": "06j50eo6cAvH"
      },
      "source": [
        "data_df2 = pandas.read_csv('data.csv')\n",
        "data_df2"
      ],
      "execution_count": null,
      "outputs": []
    },
    {
      "cell_type": "markdown",
      "metadata": {
        "id": "XFmOha17cEFa"
      },
      "source": [
        "##Basic Python\n",
        "variable"
      ]
    },
    {
      "cell_type": "markdown",
      "metadata": {
        "id": "10M2uiUVcK0w"
      },
      "source": [
        "ข้อกำหนดในการตั้งชื่อตัวแปร\n",
        "\n",
        "1. ชื่อห้ามมีเว้นวรรค\n",
        "2. (พยายาม)ใช้ภาษาอังกฤษ\n",
        "3. ตัวเล็กตัวใหญ่แตกต่างกัน (case sensitive)\n",
        "4. ห้ามใช้ตัวเลขเป็นตัวหน้า"
      ]
    },
    {
      "cell_type": "code",
      "metadata": {
        "id": "76jkhjXicRKZ"
      },
      "source": [
        "variable_a = 12          #สร้างตัวแปลใส่เลข 12 แบบไม่มี quote จะเป็นตัวเลข\n",
        "variable_b = 'abcde'   # ' เรียกว่า quote\n",
        "variable_c = variable_a   #ค่าของ variable_c เท่่ากับ ค่าของ variable_a"
      ],
      "execution_count": null,
      "outputs": []
    },
    {
      "cell_type": "code",
      "metadata": {
        "id": "AG4G5KpncU8U"
      },
      "source": [
        "variable_a"
      ],
      "execution_count": null,
      "outputs": []
    },
    {
      "cell_type": "code",
      "metadata": {
        "id": "npAJBTUqcXKn"
      },
      "source": [
        "variable_b"
      ],
      "execution_count": null,
      "outputs": []
    },
    {
      "cell_type": "code",
      "metadata": {
        "id": "FtpILgIjcZX5"
      },
      "source": [
        "variable_c"
      ],
      "execution_count": null,
      "outputs": []
    },
    {
      "cell_type": "code",
      "metadata": {
        "id": "rHAw5Ss4ccQ5"
      },
      "source": [
        "# ชื่อห้ามมีเว้นวรรค\n",
        "variable a = 6"
      ],
      "execution_count": null,
      "outputs": []
    },
    {
      "cell_type": "code",
      "metadata": {
        "id": "T75kaNMgcf7S"
      },
      "source": [
        "# พยายามใช้ภาษาอังกฤษ\n",
        "# colab ใช้ภาษาไทยเป็นชื่อตัวแปรได้แต่ไม่ควรใช้\n",
        "ตัวแปร = 3           \n",
        "ตัวแปร"
      ],
      "execution_count": null,
      "outputs": []
    },
    {
      "cell_type": "code",
      "metadata": {
        "id": "zWel2XLAclBS"
      },
      "source": [
        "# ตัวเล็กกับตัวใหญ่ต่างกัน (case sensitive)\n",
        "v_a = 1\n",
        "V_a = 2\n",
        "print(v_a)\n",
        "print(V_a)"
      ],
      "execution_count": null,
      "outputs": []
    },
    {
      "cell_type": "code",
      "metadata": {
        "id": "0sW2eyQEcnye"
      },
      "source": [
        "# ห้ามใช้ตัวเลขเป็นตัวหน้า\n",
        "2 = 1"
      ],
      "execution_count": null,
      "outputs": []
    },
    {
      "cell_type": "code",
      "metadata": {
        "id": "FZwRzovtcrvJ"
      },
      "source": [
        "# ห้ามใช้ตัวเลขเป็นตัวหน้า\n",
        "2ab = 1"
      ],
      "execution_count": null,
      "outputs": []
    },
    {
      "cell_type": "code",
      "metadata": {
        "id": "uEFAvcaFct_L"
      },
      "source": [
        "# ห้ามใช้ตัวเลขเป็นตัวหน้า\n",
        "variable = 1"
      ],
      "execution_count": null,
      "outputs": []
    },
    {
      "cell_type": "code",
      "metadata": {
        "id": "-Hzc95Wmcw9F"
      },
      "source": [
        "print(variable)"
      ],
      "execution_count": null,
      "outputs": []
    },
    {
      "cell_type": "code",
      "metadata": {
        "id": "rLzjLnuMc0WU"
      },
      "source": [
        "variable_a = 12          #สร้างตัวแปลใส่เลข 12 แบบไม่มี quote จะเป็นตัวเลข\n",
        "variable_b = 'abcde'   # ' เรียกว่า quote\n",
        "variable_c = variable_a   #ค่าของ variable_c เท่่ากับ ค่าของ variable_a\n",
        "variable_d = -41.2\n",
        "variable_4 = \"KKU\"  # \" เรียกว่า double quote"
      ],
      "execution_count": null,
      "outputs": []
    },
    {
      "cell_type": "code",
      "metadata": {
        "id": "nFuK-zpDc263"
      },
      "source": [
        "variable_x =  variable_c + variable_d\n",
        "print(variable_x)"
      ],
      "execution_count": null,
      "outputs": []
    },
    {
      "cell_type": "code",
      "metadata": {
        "id": "Jbn2lsb_c6Ps"
      },
      "source": [
        "variable_x"
      ],
      "execution_count": null,
      "outputs": []
    },
    {
      "cell_type": "code",
      "metadata": {
        "id": "SvzGV0K9c8Wi"
      },
      "source": [
        "variable_a + variable_b"
      ],
      "execution_count": null,
      "outputs": []
    },
    {
      "cell_type": "code",
      "metadata": {
        "id": "5cQiUBqkc_TJ"
      },
      "source": [
        "print(variable_b + variable_4)  # print สามารถพิมพ์อะไรก็ได้ลงไปใน ()"
      ],
      "execution_count": null,
      "outputs": []
    },
    {
      "cell_type": "markdown",
      "metadata": {
        "id": "a0P7RnzVdDST"
      },
      "source": [
        "##Casting int() str()\n",
        "เปลี่ยนชนิดของตัวแปรได้"
      ]
    },
    {
      "cell_type": "code",
      "metadata": {
        "id": "ZOrlRWbCdH66"
      },
      "source": [
        "print(variable_x)            # เปลี่ยนให้เป็นจำนวนเต็ม ตอนแรกเป็น float เป็น int\n",
        "print(int(variable_x))"
      ],
      "execution_count": null,
      "outputs": []
    },
    {
      "cell_type": "code",
      "metadata": {
        "id": "heTVzc1JdKb4"
      },
      "source": [
        "V_X = str(variable_x)\n",
        "print(V_X)"
      ],
      "execution_count": null,
      "outputs": []
    },
    {
      "cell_type": "code",
      "metadata": {
        "id": "O6DA5IS1dMgp"
      },
      "source": [
        "V_X + variable_a"
      ],
      "execution_count": null,
      "outputs": []
    },
    {
      "cell_type": "code",
      "metadata": {
        "id": "Wr-Kld9-dOsZ"
      },
      "source": [
        "variable_a + V_X"
      ],
      "execution_count": null,
      "outputs": []
    },
    {
      "cell_type": "code",
      "metadata": {
        "id": "NzNrT2jodTKU"
      },
      "source": [
        "V_X "
      ],
      "execution_count": null,
      "outputs": []
    },
    {
      "cell_type": "code",
      "metadata": {
        "id": "axQBn6LXdVM0"
      },
      "source": [
        "float(V_X)"
      ],
      "execution_count": null,
      "outputs": []
    },
    {
      "cell_type": "markdown",
      "metadata": {
        "id": "zU1OqGlwdYMV"
      },
      "source": [
        "## Data Structure\n",
        "### list()"
      ]
    },
    {
      "cell_type": "code",
      "metadata": {
        "id": "2IGnFaXXdbYo"
      },
      "source": [
        "list_a = [1,2,0.2,'abs' ]  # [ ] square brackets\n",
        "list_b = [2,'xyz',list_a,[1,2,0.0]]"
      ],
      "execution_count": null,
      "outputs": []
    },
    {
      "cell_type": "code",
      "metadata": {
        "id": "AHkOuMT7dfaS"
      },
      "source": [
        "list_a"
      ],
      "execution_count": null,
      "outputs": []
    },
    {
      "cell_type": "code",
      "metadata": {
        "id": "BRDPY75_dhX4"
      },
      "source": [
        "list_b"
      ],
      "execution_count": null,
      "outputs": []
    },
    {
      "cell_type": "code",
      "metadata": {
        "id": "U-beuEGZdjkv"
      },
      "source": [
        "len(list_b)   # ดูว่าใน list_b มีสมาชิกกี่ตัว"
      ],
      "execution_count": null,
      "outputs": []
    },
    {
      "cell_type": "code",
      "metadata": {
        "id": "xV3NbqZbdl7S"
      },
      "source": [
        "list_b[3]"
      ],
      "execution_count": null,
      "outputs": []
    },
    {
      "cell_type": "code",
      "metadata": {
        "id": "VVUUn_2tdn5N"
      },
      "source": [
        "list_b[3][1]"
      ],
      "execution_count": null,
      "outputs": []
    },
    {
      "cell_type": "markdown",
      "metadata": {
        "id": "TIumtKlndrqa"
      },
      "source": [
        "string คือ list ของตัวหนังสือ"
      ]
    },
    {
      "cell_type": "code",
      "metadata": {
        "id": "b8bKuswxduYP"
      },
      "source": [
        "a = 'Stat KKU'"
      ],
      "execution_count": null,
      "outputs": []
    },
    {
      "cell_type": "code",
      "metadata": {
        "id": "X5gu3NZ7dw-Z"
      },
      "source": [
        "a[4]"
      ],
      "execution_count": null,
      "outputs": []
    },
    {
      "cell_type": "markdown",
      "metadata": {
        "id": "rz6ZVV14dzQK"
      },
      "source": [
        "##วิธีการสร้าง list ว่าง"
      ]
    },
    {
      "cell_type": "code",
      "metadata": {
        "id": "k-q4fl-Qd6mQ"
      },
      "source": [
        "list_c = list()  #แบบที่ 1\n",
        "list_d = []      #แบบที่ 2"
      ],
      "execution_count": null,
      "outputs": []
    },
    {
      "cell_type": "code",
      "metadata": {
        "id": "j-LruuaGd-U9"
      },
      "source": [
        "list_c"
      ],
      "execution_count": null,
      "outputs": []
    },
    {
      "cell_type": "code",
      "metadata": {
        "id": "jhIEok18eAYF"
      },
      "source": [
        "list_d"
      ],
      "execution_count": null,
      "outputs": []
    },
    {
      "cell_type": "markdown",
      "metadata": {
        "id": "oQ7-uJdoeFjg"
      },
      "source": [
        "เติมค่าลงไปใน list (.append())"
      ]
    },
    {
      "cell_type": "code",
      "metadata": {
        "id": "xAsYNsMMeH3c"
      },
      "source": [
        "list_d.append('a')"
      ],
      "execution_count": null,
      "outputs": []
    },
    {
      "cell_type": "code",
      "metadata": {
        "id": "oHfvIUKSeJwd"
      },
      "source": [
        "list_d"
      ],
      "execution_count": null,
      "outputs": []
    },
    {
      "cell_type": "code",
      "metadata": {
        "id": "4SKd5ybFeL2-"
      },
      "source": [
        "list_d.append(56)"
      ],
      "execution_count": null,
      "outputs": []
    },
    {
      "cell_type": "code",
      "metadata": {
        "id": "OQsfH7IsePhq"
      },
      "source": [
        "list_d"
      ],
      "execution_count": null,
      "outputs": []
    },
    {
      "cell_type": "markdown",
      "metadata": {
        "id": "_8yyMftGeSfF"
      },
      "source": [
        "##การชี้ค่าใน list (indexing)\n",
        "3.ใช้ลำดับในการชี้\n",
        "\n",
        "2.ลำดับเริ่มจาก 0\n",
        "\n",
        "3.สามารถชี้จากข้างหลังได้โดยใช้ negative index"
      ]
    },
    {
      "cell_type": "code",
      "metadata": {
        "id": "xWl4fh9fedF2"
      },
      "source": [
        "list_b"
      ],
      "execution_count": null,
      "outputs": []
    },
    {
      "cell_type": "code",
      "metadata": {
        "id": "NpePVTwweh4F"
      },
      "source": [
        "list_b[-1]   #ชี้ค่าข้างหลังสุด"
      ],
      "execution_count": null,
      "outputs": []
    },
    {
      "cell_type": "markdown",
      "metadata": {
        "id": "GnJYdhTXel9E"
      },
      "source": [
        "##list slicing\n",
        "เราจะตัด list โดยเอาตั้งแต่ [ตัวหน้า: ตัวก่อนตัวหลัง]\n",
        "ถ้าเป็นสัญลักษณ์คณิตศาสตร์ [ตัวหน้า:ตัวหลัง] -> [ตัวหน้า,ตัวหลัง]"
      ]
    },
    {
      "cell_type": "code",
      "metadata": {
        "id": "ZUHIf1jOerRU"
      },
      "source": [
        "list_ex = [1,2,3,5,6,8,-1,20,50,0]"
      ],
      "execution_count": null,
      "outputs": []
    },
    {
      "cell_type": "code",
      "metadata": {
        "id": "ygqeu03Petvs"
      },
      "source": [
        "list_ex[1:6]   # : สัญลักษณ์ของ slicing\n",
        "                   # เราจะตัด list โดยเอาตั้งแต่ [ตัวหน้า: ตัวก่อนตัวหลัง]"
      ],
      "execution_count": null,
      "outputs": []
    },
    {
      "cell_type": "code",
      "metadata": {
        "id": "zP-eMggeewAv"
      },
      "source": [
        "list_ex[4:]"
      ],
      "execution_count": null,
      "outputs": []
    },
    {
      "cell_type": "code",
      "metadata": {
        "id": "AIeJX4JQezCS"
      },
      "source": [
        "list_ex[:6]"
      ],
      "execution_count": null,
      "outputs": []
    },
    {
      "cell_type": "markdown",
      "metadata": {
        "id": "hiceMfANe3w4"
      },
      "source": [
        "\n",
        "#list_ex[:6]\n",
        "[จุดเริ่มต้น:จุดสุดท้าย:step]"
      ]
    },
    {
      "cell_type": "code",
      "metadata": {
        "id": "E4KgmlYFe8we"
      },
      "source": [
        "list_ex"
      ],
      "execution_count": null,
      "outputs": []
    },
    {
      "cell_type": "code",
      "metadata": {
        "id": "inEJjZ-fe_34"
      },
      "source": [
        "list_ex[::2]"
      ],
      "execution_count": null,
      "outputs": []
    },
    {
      "cell_type": "code",
      "metadata": {
        "id": "xqZsB5EQfCk5"
      },
      "source": [
        "list_ex[::-1]   # การกลับ list จากหลังมาหน้า จากหน้ามาหลัง"
      ],
      "execution_count": null,
      "outputs": []
    },
    {
      "cell_type": "code",
      "metadata": {
        "id": "Jp9SSjDTfEjG"
      },
      "source": [
        "a"
      ],
      "execution_count": null,
      "outputs": []
    },
    {
      "cell_type": "code",
      "metadata": {
        "id": "Nls5skrXfG-7"
      },
      "source": [
        "a[5:]"
      ],
      "execution_count": null,
      "outputs": []
    },
    {
      "cell_type": "code",
      "metadata": {
        "id": "HRWe5NnefI-9"
      },
      "source": [
        "a[-3:]"
      ],
      "execution_count": null,
      "outputs": []
    },
    {
      "cell_type": "code",
      "metadata": {
        "id": "PlLIdq89fMqa"
      },
      "source": [
        "a[5:8]"
      ],
      "execution_count": null,
      "outputs": []
    },
    {
      "cell_type": "code",
      "metadata": {
        "id": "ogCwMTVHfO2I"
      },
      "source": [
        "a[5::]"
      ],
      "execution_count": null,
      "outputs": []
    },
    {
      "cell_type": "code",
      "metadata": {
        "id": "i3_PA9BEfQxb"
      },
      "source": [
        "a[-3::]"
      ],
      "execution_count": null,
      "outputs": []
    },
    {
      "cell_type": "code",
      "metadata": {
        "id": "ahM_6RGvfSqK"
      },
      "source": [
        "a[-3::1]"
      ],
      "execution_count": null,
      "outputs": []
    },
    {
      "cell_type": "markdown",
      "metadata": {
        "id": "xWus7FGZfXyg"
      },
      "source": [
        "### list + list"
      ]
    },
    {
      "cell_type": "code",
      "metadata": {
        "id": "U75x8RSJfauG"
      },
      "source": [
        "print(list_a)\n",
        "print(list_b)"
      ],
      "execution_count": null,
      "outputs": []
    },
    {
      "cell_type": "code",
      "metadata": {
        "id": "ziI985NufeQL"
      },
      "source": [
        "list_a + list_b"
      ],
      "execution_count": null,
      "outputs": []
    },
    {
      "cell_type": "markdown",
      "metadata": {
        "id": "BnuJf8I0fiei"
      },
      "source": [
        "format string"
      ]
    },
    {
      "cell_type": "markdown",
      "metadata": {
        "id": "rCvWE2QlfkV8"
      },
      "source": [
        "f 'string{ตัวแปร}'"
      ]
    },
    {
      "cell_type": "code",
      "metadata": {
        "id": "f1D3Y0vffn69"
      },
      "source": [
        "f'ตัวแปร list_a มีค่าคือ {list_a}'"
      ],
      "execution_count": null,
      "outputs": []
    },
    {
      "cell_type": "code",
      "metadata": {
        "id": "OO6FlJknfqEx"
      },
      "source": [
        "f'ตัวแปร list_ex มีค่าคือ {list_ex}'"
      ],
      "execution_count": null,
      "outputs": []
    },
    {
      "cell_type": "markdown",
      "metadata": {
        "id": "uHCyYDjLfs9D"
      },
      "source": [
        "##Loop"
      ]
    },
    {
      "cell_type": "markdown",
      "metadata": {
        "id": "2TB8JKM8fx9V"
      },
      "source": [
        "```python\n",
        "for ตัวแปรที่จะรับค่าจาก list in list:\n",
        "     do something\n",
        "```"
      ]
    },
    {
      "cell_type": "code",
      "metadata": {
        "id": "QwxmTa0Gf2iu"
      },
      "source": [
        "for i in [1,2,3,4,5]:\n",
        "     print(i+1)"
      ],
      "execution_count": null,
      "outputs": []
    },
    {
      "cell_type": "code",
      "metadata": {
        "id": "hbnXVS22f4ks"
      },
      "source": [
        "for x in [1,2,3,4,5]:\n",
        "     print(f'ค่าตัวแปร x คือ {x} และ x+2={x+2}')"
      ],
      "execution_count": null,
      "outputs": []
    },
    {
      "cell_type": "code",
      "metadata": {
        "id": "jBnuw34Tf6x_"
      },
      "source": [
        "list5=[1,2,3,4,5]\n",
        "for x in list5:\n",
        "     print(f'ค่าตัวแปร x คือ {x} และ x+2={x+2}')"
      ],
      "execution_count": null,
      "outputs": []
    },
    {
      "cell_type": "code",
      "metadata": {
        "id": "oFgT7WYCf-bM"
      },
      "source": [
        "list(range(10))"
      ],
      "execution_count": null,
      "outputs": []
    },
    {
      "cell_type": "code",
      "metadata": {
        "id": "86Ao5f9ygAdv"
      },
      "source": [
        "for i in range(2,7):\n",
        "     print(i)"
      ],
      "execution_count": null,
      "outputs": []
    },
    {
      "cell_type": "code",
      "metadata": {
        "id": "dTdY9792gC4q"
      },
      "source": [
        "for i in range(2,7,2):\n",
        "     print(i)"
      ],
      "execution_count": null,
      "outputs": []
    },
    {
      "cell_type": "code",
      "metadata": {
        "id": "F5IJIA-JgFJU"
      },
      "source": [
        "for i in range(5):\n",
        "     print('hahaha')"
      ],
      "execution_count": null,
      "outputs": []
    },
    {
      "cell_type": "code",
      "metadata": {
        "id": "nATC7ImPgJFr"
      },
      "source": [
        "for i in range(5):\n",
        "     print('hahaha')\n",
        "     x = i + 3\n",
        "     print(f'i={i} x={x}')"
      ],
      "execution_count": null,
      "outputs": []
    },
    {
      "cell_type": "markdown",
      "metadata": {
        "id": "q26QSVfPgMYb"
      },
      "source": [
        "##Nested loop\n",
        "loopซ้อนloop"
      ]
    },
    {
      "cell_type": "code",
      "metadata": {
        "id": "fFnG5AbUgSNg"
      },
      "source": [
        "for i in range(3):\n",
        "     print(f' now i = {i}')\n",
        "     print('start j loop')\n",
        "     for j in range(4):\n",
        "          print(f'i={i} j={j} i+j={i+j}')\n",
        "     print('end j loop')"
      ],
      "execution_count": null,
      "outputs": []
    },
    {
      "cell_type": "markdown",
      "metadata": {
        "id": "RrmtFA30gWPK"
      },
      "source": [
        "##Condition\n",
        "Function"
      ]
    },
    {
      "cell_type": "markdown",
      "metadata": {
        "id": "FQ4hCVzvWh4I"
      },
      "source": [
        "if เงื่อนไขที่จะตรวจสอบ (โดยใช้สัญลักษณ์ ==,!=,<,>,<=,>=):\n",
        "\n",
        "    ถ้าเงื่อนไขเป็นจริง ทำงาน 1\n",
        "\n",
        "    ถ้าเงื่อนไขเป็นจริง ทไงาน 2"
      ]
    },
    {
      "cell_type": "code",
      "metadata": {
        "id": "xU31bMKmWoRe"
      },
      "source": [
        "stringx = 'nonttanont taont916 looooooovvvvveeeeee'\n",
        "\n",
        "if len(stringx) > 30:\n",
        "    print(f'{stringx} is longer than 30 characters')"
      ],
      "execution_count": null,
      "outputs": []
    },
    {
      "cell_type": "code",
      "metadata": {
        "id": "11yoogeqXKDa"
      },
      "source": [
        "stringx = 'nonttanont taont916 looooooovvvvveeeeee'\n",
        "\n",
        "if len(stringx) > 100:\n",
        "    print(f'{stringx} is longer than 30 characters')"
      ],
      "execution_count": null,
      "outputs": []
    },
    {
      "cell_type": "markdown",
      "metadata": {
        "id": "S-XOX_PgXO5Q"
      },
      "source": [
        "``` python\n",
        "if เงื่อนไขที่จะตรวจสอบ (โดยใช้สัญลักษณ์ ==,!=,<,>,<=,>=):\n",
        "    ถ้าเงื่อนไขเป็นจริง ทำงาน 1\n",
        "    ถ้าเงื่อนไขเป็นจริง ทไงาน 2\n",
        "else: #ตรวจสอบเงื่อนไขข้างบนแล้วไม่เป็นจริง\n",
        "      ทำงานที่ x \n",
        "```"
      ]
    },
    {
      "cell_type": "code",
      "metadata": {
        "id": "-ok8jN9XXXIy",
        "colab": {
          "base_uri": "https://localhost:8080/"
        },
        "outputId": "2b0f5bc0-58e0-4788-9029-31a3836f8f5b"
      },
      "source": [
        "stringx = 'nonttanont taont916 looooooovvvvveeeeee'\n",
        "\n",
        "if len(stringx) > 100:\n",
        "    print(f'{stringx} is longer than 30 characters')\n",
        "else:\n",
        "      print(f'{stringx} in {len(stringx)} characters long')    #ถ้าไม่มากกว่า100 ให้แสดงว่ามีเท่าไหร่"
      ],
      "execution_count": null,
      "outputs": [
        {
          "output_type": "stream",
          "text": [
            "nonttanont taont916 looooooovvvvveeeeee in 39 characters long\n"
          ],
          "name": "stdout"
        }
      ]
    },
    {
      "cell_type": "markdown",
      "metadata": {
        "id": "bicq5iWZXbVV"
      },
      "source": [
        "if เงื่อนไขที่จะตรวจสอบ (โดยใช้สัญลักษณ์ ==,!=,<,>,<=,>=):\n",
        "    ถ้าเงื่อนไขเป็นจริง ทำงาน 1\n",
        "    ถ้าเงื่อนไขเป็นจริง ทำงาน 2\n",
        "elif  เงื่อนไขที่จะตรวจสอบต่อไปถ้าเงื่อนไขข้างบนไม่เป็นจริง:\n",
        "     ถ้าเงื่อนไขเป็นจริง ทำงานที่ a1\n",
        "     ถ้าเงื่อนไขเป็นจริง ทำงานที่ a2\n",
        "elif  เงื่อนไขที่จะตรวจสอบต่อไปถ้าเงื่อนไขข้างบนไม่เป็นจริง:\n",
        "     ถ้าเงื่อนไขเป็นจริง ทำงานที่ b1\n",
        "     ถ้าเงื่อนไขเป็นจริง ทำงานที่ b2\n",
        "else: #ตรวจสอบเงื่อนไขข้างบนแล้วไม่เป็นจริง\n",
        "      ทำงานที่ x "
      ]
    },
    {
      "cell_type": "code",
      "metadata": {
        "id": "BnJ8hcwDXaQF"
      },
      "source": [
        "password = '12345'"
      ],
      "execution_count": null,
      "outputs": []
    },
    {
      "cell_type": "markdown",
      "metadata": {
        "id": "KsLMQerMXi0R"
      },
      "source": [
        "Quiz 1 หา min"
      ]
    },
    {
      "cell_type": "code",
      "metadata": {
        "id": "D6Tucmc-X0Jl"
      },
      "source": [
        "list_ex = [1,5,9,-19,-2,0]   #หาค่าน้อยที่สุดใน list_ex โดยไม่ใช้ function min (commit ก่อน 10.30 : Quiz1)"
      ],
      "execution_count": null,
      "outputs": []
    },
    {
      "cell_type": "code",
      "metadata": {
        "id": "zCKMVfAuX3gn",
        "colab": {
          "base_uri": "https://localhost:8080/"
        },
        "outputId": "38e1e84a-beb0-4393-a268-a6388dada0a4"
      },
      "source": [
        "list_ex[3:4:2]"
      ],
      "execution_count": null,
      "outputs": [
        {
          "output_type": "execute_result",
          "data": {
            "text/plain": [
              "[-19]"
            ]
          },
          "metadata": {
            "tags": []
          },
          "execution_count": 7
        }
      ]
    },
    {
      "cell_type": "code",
      "metadata": {
        "id": "IBITKbGiX-Oo",
        "colab": {
          "base_uri": "https://localhost:8080/"
        },
        "outputId": "7fc0eedc-1be0-49f9-f780-15a98188cb07"
      },
      "source": [
        "# เฉลย\n",
        "min = 1000000  #ตั้งค่าไว้ก่อนให้เยอะๆ\n",
        "\n",
        "for i in list_ex:   #วนเข้าไปดูตัวที่น้อยสุด\n",
        "     if i < min:\n",
        "         min = i\n",
        "print(min)"
      ],
      "execution_count": null,
      "outputs": [
        {
          "output_type": "stream",
          "text": [
            "-19\n"
          ],
          "name": "stdout"
        }
      ]
    },
    {
      "cell_type": "code",
      "metadata": {
        "id": "rA2Q6t6qYC43",
        "colab": {
          "base_uri": "https://localhost:8080/"
        },
        "outputId": "256ebf3d-98a2-4cf0-f6a5-e90272c8df5c"
      },
      "source": [
        "min = 1000000  #ตั้งค่าไว้ก่อนให้เยอะๆ\n",
        "print(list_ex)\n",
        "for i in list_ex:   #วนเข้าไปดูตัวที่น้อยสุด\n",
        "     print(f'now i = {i}, min = {min}')\n",
        "     print('start condition')\n",
        "     if i < min:\n",
        "        print(f'i < min, update min -> {i}')\n",
        "        min = i\n",
        "     else:\n",
        "          print('not update')\n",
        "     print('end condition, go to next i')\n",
        "\n",
        "print(min)"
      ],
      "execution_count": null,
      "outputs": [
        {
          "output_type": "stream",
          "text": [
            "[1, 5, 9, -19, -2, 0]\n",
            "now i = 1, min = 1000000\n",
            "start condition\n",
            "i < min, update min -> 1\n",
            "end condition, go to next i\n",
            "now i = 5, min = 1\n",
            "start condition\n",
            "not update\n",
            "end condition, go to next i\n",
            "now i = 9, min = 1\n",
            "start condition\n",
            "not update\n",
            "end condition, go to next i\n",
            "now i = -19, min = 1\n",
            "start condition\n",
            "i < min, update min -> -19\n",
            "end condition, go to next i\n",
            "now i = -2, min = -19\n",
            "start condition\n",
            "not update\n",
            "end condition, go to next i\n",
            "now i = 0, min = -19\n",
            "start condition\n",
            "not update\n",
            "end condition, go to next i\n",
            "-19\n"
          ],
          "name": "stdout"
        }
      ]
    },
    {
      "cell_type": "markdown",
      "metadata": {
        "id": "eVof6yHxYID8"
      },
      "source": [
        "HW03 ตัดเกรด"
      ]
    },
    {
      "cell_type": "code",
      "metadata": {
        "id": "MEoj8peEKIZP"
      },
      "source": [
        "score = [49,65,70,95,82,55,89,20,77,77,81,59,10]"
      ],
      "execution_count": null,
      "outputs": []
    },
    {
      "cell_type": "code",
      "metadata": {
        "id": "P9kvD39tKUJ0",
        "colab": {
          "base_uri": "https://localhost:8080/"
        },
        "outputId": "4fd04647-01ae-49a3-ca31-3e9416a3ca71"
      },
      "source": [
        "for i in score:\n",
        "  if i >= 80:\n",
        "     print('A') #เกรดA\n",
        "  elif i >= 75:\n",
        "      print('B+') #เกรดB+\n",
        "  elif i >= 70:\n",
        "      print('B') #เกรดB\n",
        "  elif i >= 65:\n",
        "      print('C+') #เกรดC+\n",
        "  elif i >= 60:\n",
        "      print('C') #เกรดC\n",
        "  elif i >= 55:\n",
        "      print('D+') #เกรดD+\n",
        "  elif i >= 50:\n",
        "      print('D') #เกรดD\n",
        "  else:\n",
        "      print('F') #เกรดF"
      ],
      "execution_count": null,
      "outputs": [
        {
          "output_type": "stream",
          "text": [
            "F\n",
            "C+\n",
            "B\n",
            "A\n",
            "A\n",
            "D+\n",
            "A\n",
            "F\n",
            "B+\n",
            "B+\n",
            "A\n",
            "D+\n",
            "F\n"
          ],
          "name": "stdout"
        }
      ]
    },
    {
      "cell_type": "markdown",
      "metadata": {
        "id": "PnQTVuz48F0r"
      },
      "source": [
        "## Function\n",
        "\n",
        "```python\n",
        "def ชื่อฟังก์ชั้น(input1,input2,....):\n",
        "      งานxxx\n",
        "      งานyyy\n",
        "      return output\n",
        "```\n",
        "\n",
        "\n",
        "\n",
        "ส่วนประกอบสำคัญ\n",
        "*   input\n",
        "*   process (ไม่มีไม่ได้)\n",
        "*   output"
      ]
    },
    {
      "cell_type": "markdown",
      "metadata": {
        "id": "gcK2Puaj8JYc"
      },
      "source": [
        "![image.png](data:image/png;base64,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)"
      ]
    },
    {
      "cell_type": "markdown",
      "metadata": {
        "id": "-2cudBZQ8MVi"
      },
      "source": [
        "Example 1"
      ]
    },
    {
      "cell_type": "code",
      "metadata": {
        "id": "k1XvxoCx8QqX"
      },
      "source": [
        "def grading(score):\n",
        "      if  score  >= 80:\n",
        "            grade = 'A'\n",
        "      elif  score  >= 75:\n",
        "            grade = 'B+'\n",
        "      elif  score  >= 70:\n",
        "            grade = 'B'\n",
        "      elif  score  >= 65:\n",
        "            grade = 'C+'\n",
        "      elif  score  >= 60:\n",
        "            grade = 'C'\n",
        "      elif  score  >= 55:\n",
        "            grade = 'D+'\n",
        "      elif  score  >= 50:\n",
        "            grade = 'D' \n",
        "      else:\n",
        "            grade = 'F'\n",
        "\n",
        "      return grade"
      ],
      "execution_count": 37,
      "outputs": []
    },
    {
      "cell_type": "code",
      "metadata": {
        "id": "kTf0BfBu8VQj",
        "outputId": "07d98cab-0c99-4eab-a15c-ed42f2cd0c08",
        "colab": {
          "base_uri": "https://localhost:8080/"
        }
      },
      "source": [
        "score = [49,65,70,95,82,55,89,20,77,77,81,59,10]\n",
        "for i in score:\n",
        "     print(f'คะแนน {i} ได้เกรด {grading(i)}')"
      ],
      "execution_count": 38,
      "outputs": [
        {
          "output_type": "stream",
          "text": [
            "คะแนน 49 ได้เกรด F\n",
            "คะแนน 65 ได้เกรด C+\n",
            "คะแนน 70 ได้เกรด B\n",
            "คะแนน 95 ได้เกรด A\n",
            "คะแนน 82 ได้เกรด A\n",
            "คะแนน 55 ได้เกรด D+\n",
            "คะแนน 89 ได้เกรด A\n",
            "คะแนน 20 ได้เกรด F\n",
            "คะแนน 77 ได้เกรด B+\n",
            "คะแนน 77 ได้เกรด B+\n",
            "คะแนน 81 ได้เกรด A\n",
            "คะแนน 59 ได้เกรด D+\n",
            "คะแนน 10 ได้เกรด F\n"
          ],
          "name": "stdout"
        }
      ]
    },
    {
      "cell_type": "code",
      "metadata": {
        "id": "bRoJhPgC8ZhK"
      },
      "source": [
        "def grading_list(list_score):\n",
        "    grade_list = []\n",
        "    for score in list_score:\n",
        "        if  score  >= 80:\n",
        "            grade = 'A'\n",
        "        elif  score  >= 75:\n",
        "            grade = 'B+'\n",
        "        elif  score  >= 70:\n",
        "            grade = 'B'\n",
        "        elif  score  >= 65:\n",
        "            grade = 'C+'\n",
        "        elif  score  >= 60:\n",
        "            grade = 'C'\n",
        "        elif  score  >= 55:\n",
        "            grade = 'D+'\n",
        "        elif  score  >= 50:\n",
        "            grade = 'D' \n",
        "        else:\n",
        "            grade = 'F'\n",
        "        grade_list.append([score,grade])\n",
        "    return grade_list"
      ],
      "execution_count": 39,
      "outputs": []
    },
    {
      "cell_type": "code",
      "metadata": {
        "id": "ZN5qoE-q8dsm",
        "outputId": "9a017772-d7b6-430e-952c-4e0bf8f60cab",
        "colab": {
          "base_uri": "https://localhost:8080/"
        }
      },
      "source": [
        "g = grading_list(score)\n",
        "g"
      ],
      "execution_count": 40,
      "outputs": [
        {
          "output_type": "execute_result",
          "data": {
            "text/plain": [
              "[[49, 'F'],\n",
              " [65, 'C+'],\n",
              " [70, 'B'],\n",
              " [95, 'A'],\n",
              " [82, 'A'],\n",
              " [55, 'D+'],\n",
              " [89, 'A'],\n",
              " [20, 'F'],\n",
              " [77, 'B+'],\n",
              " [77, 'B+'],\n",
              " [81, 'A'],\n",
              " [59, 'D+'],\n",
              " [10, 'F']]"
            ]
          },
          "metadata": {
            "tags": []
          },
          "execution_count": 40
        }
      ]
    },
    {
      "cell_type": "code",
      "metadata": {
        "id": "4vCqoWiR8iRm",
        "outputId": "39b0a042-bb30-447c-9d27-f3513dc8a401",
        "colab": {
          "base_uri": "https://localhost:8080/",
          "height": 180
        }
      },
      "source": [
        "for i in score:\n",
        "     print(f'คะแนน {i[0]} ได้เกรด {grading(i)}')"
      ],
      "execution_count": 41,
      "outputs": [
        {
          "output_type": "error",
          "ename": "TypeError",
          "evalue": "ignored",
          "traceback": [
            "\u001b[0;31m---------------------------------------------------------------------------\u001b[0m",
            "\u001b[0;31mTypeError\u001b[0m                                 Traceback (most recent call last)",
            "\u001b[0;32m<ipython-input-41-ef4ddc2020b6>\u001b[0m in \u001b[0;36m<module>\u001b[0;34m()\u001b[0m\n\u001b[1;32m      1\u001b[0m \u001b[0;32mfor\u001b[0m \u001b[0mi\u001b[0m \u001b[0;32min\u001b[0m \u001b[0mscore\u001b[0m\u001b[0;34m:\u001b[0m\u001b[0;34m\u001b[0m\u001b[0;34m\u001b[0m\u001b[0m\n\u001b[0;32m----> 2\u001b[0;31m      \u001b[0mprint\u001b[0m\u001b[0;34m(\u001b[0m\u001b[0;34mf'คะแนน {i[0]} ได้เกรด {grading(i)}'\u001b[0m\u001b[0;34m)\u001b[0m\u001b[0;34m\u001b[0m\u001b[0;34m\u001b[0m\u001b[0m\n\u001b[0m",
            "\u001b[0;31mTypeError\u001b[0m: 'int' object is not subscriptable"
          ]
        }
      ]
    },
    {
      "cell_type": "code",
      "metadata": {
        "id": "9roYOzAx8mm_"
      },
      "source": [
        "def grading2(score):\n",
        "      if  score  >= 80:\n",
        "            return  'A'\n",
        "      elif  score  >= 75:\n",
        "            return  'B+'\n",
        "      elif  score  >= 70:\n",
        "            return  'B'\n",
        "      elif  score  >= 65:\n",
        "            return  'C+'\n",
        "      elif  score  >= 60:\n",
        "            return  'C'\n",
        "      elif  score  >= 55:\n",
        "            return  'D+'\n",
        "      elif  score  >= 50:\n",
        "            return  'D' \n",
        "      else:\n",
        "            return  'F'"
      ],
      "execution_count": 42,
      "outputs": []
    },
    {
      "cell_type": "code",
      "metadata": {
        "id": "lOnImmmu8plW",
        "outputId": "8a78412a-2586-49bd-a3b9-be2cf9e1c2f8",
        "colab": {
          "base_uri": "https://localhost:8080/"
        }
      },
      "source": [
        "score = [49,65,70,95,82,55,89,20,77,77,81,59,10]\n",
        "for i in score:\n",
        "     print(f'คะแนน {i} ได้เกรด {grading2(i)}')"
      ],
      "execution_count": 43,
      "outputs": [
        {
          "output_type": "stream",
          "text": [
            "คะแนน 49 ได้เกรด F\n",
            "คะแนน 65 ได้เกรด C+\n",
            "คะแนน 70 ได้เกรด B\n",
            "คะแนน 95 ได้เกรด A\n",
            "คะแนน 82 ได้เกรด A\n",
            "คะแนน 55 ได้เกรด D+\n",
            "คะแนน 89 ได้เกรด A\n",
            "คะแนน 20 ได้เกรด F\n",
            "คะแนน 77 ได้เกรด B+\n",
            "คะแนน 77 ได้เกรด B+\n",
            "คะแนน 81 ได้เกรด A\n",
            "คะแนน 59 ได้เกรด D+\n",
            "คะแนน 10 ได้เกรด F\n"
          ],
          "name": "stdout"
        }
      ]
    },
    {
      "cell_type": "markdown",
      "metadata": {
        "id": "d72ubJyO8tbM"
      },
      "source": [
        "\n",
        "Example 2 (ไม่มี input)"
      ]
    },
    {
      "cell_type": "code",
      "metadata": {
        "id": "HYPiGmiC8vhl"
      },
      "source": [
        "def mypi():\n",
        "      return 3.14"
      ],
      "execution_count": 44,
      "outputs": []
    },
    {
      "cell_type": "code",
      "metadata": {
        "id": "jkoTYdkp8zc2",
        "outputId": "0291577e-9dd0-4d5e-a3ba-2484e8bdf23d",
        "colab": {
          "base_uri": "https://localhost:8080/"
        }
      },
      "source": [
        "r=10\n",
        "print(f'รัศมี={r} จะมีเส้นรอบวง={2*mypi()*r}')"
      ],
      "execution_count": 45,
      "outputs": [
        {
          "output_type": "stream",
          "text": [
            "รัศมี=10 จะมีเส้นรอบวง=62.800000000000004\n"
          ],
          "name": "stdout"
        }
      ]
    },
    {
      "cell_type": "markdown",
      "metadata": {
        "id": "tB1p4-oF82Ft"
      },
      "source": [
        "Example 3 (ไม่มี output)"
      ]
    },
    {
      "cell_type": "code",
      "metadata": {
        "id": "Fpi908YN85mP"
      },
      "source": [
        "def grading_nooutput(score):\n",
        "    if  i  >= 80:\n",
        "         print('grade \"A\" ')\n",
        "    elif  i  >= 75:\n",
        "        print('grade \"B+\" ')\n",
        "    elif  i  >= 70:\n",
        "        print('grade \"B\" ')\n",
        "    elif  i  >= 65:\n",
        "        print('grade \"C+\" ')\n",
        "    elif  i  >= 60:\n",
        "        print('grade \"C\" ')\n",
        "    elif  i  >= 55:\n",
        "        print('grade \"D+\" ')\n",
        "    elif  i  >= 50:\n",
        "        print('grade \"D\" ') \n",
        "    else:\n",
        "        print('grade \"F\" ')"
      ],
      "execution_count": 46,
      "outputs": []
    },
    {
      "cell_type": "code",
      "metadata": {
        "id": "GbsDq-VT89hg",
        "outputId": "3e0e055c-2c99-49e3-96bd-91393ac239df",
        "colab": {
          "base_uri": "https://localhost:8080/"
        }
      },
      "source": [
        "score = [49,65,70,95,82,55,89,20,77,77,81,59,10]\n",
        "for i in score:\n",
        "     print(f'คะแนน {i}',end=' ')\n",
        "     grading_nooutput(i)"
      ],
      "execution_count": 47,
      "outputs": [
        {
          "output_type": "stream",
          "text": [
            "คะแนน 49 grade \"F\" \n",
            "คะแนน 65 grade \"C+\" \n",
            "คะแนน 70 grade \"B\" \n",
            "คะแนน 95 grade \"A\" \n",
            "คะแนน 82 grade \"A\" \n",
            "คะแนน 55 grade \"D+\" \n",
            "คะแนน 89 grade \"A\" \n",
            "คะแนน 20 grade \"F\" \n",
            "คะแนน 77 grade \"B+\" \n",
            "คะแนน 77 grade \"B+\" \n",
            "คะแนน 81 grade \"A\" \n",
            "คะแนน 59 grade \"D+\" \n",
            "คะแนน 10 grade \"F\" \n"
          ],
          "name": "stdout"
        }
      ]
    },
    {
      "cell_type": "markdown",
      "metadata": {
        "id": "vlUIbJSe9ErN"
      },
      "source": [
        "Example 3 (ไม่มี input และ output)"
      ]
    },
    {
      "cell_type": "code",
      "metadata": {
        "id": "EM4NKo2e9H1l"
      },
      "source": [
        "def draw_rect():\n",
        "      print('=============')\n",
        "      print('|                            |')\n",
        "      print('|                            |')\n",
        "      print('=============')"
      ],
      "execution_count": 48,
      "outputs": []
    },
    {
      "cell_type": "code",
      "metadata": {
        "id": "k1eOrcQD9K7N",
        "outputId": "4f64e86d-4e44-4cf8-f8c6-c32507397bee",
        "colab": {
          "base_uri": "https://localhost:8080/"
        }
      },
      "source": [
        "draw_rect()\n",
        "draw_rect()"
      ],
      "execution_count": 49,
      "outputs": [
        {
          "output_type": "stream",
          "text": [
            "=============\n",
            "|                            |\n",
            "|                            |\n",
            "=============\n",
            "=============\n",
            "|                            |\n",
            "|                            |\n",
            "=============\n"
          ],
          "name": "stdout"
        }
      ]
    },
    {
      "cell_type": "code",
      "metadata": {
        "id": "g_hWtBe69PG_"
      },
      "source": [
        "def draw_love():\n",
        "      print('|||            ======   \\\\\\               ///   =======')\n",
        "      print('|||            ======    \\\\\\             ///    |||')\n",
        "      print('|||            |||       |||     \\\\\\          ///      |||')\n",
        "      print('|||            |||       |||      \\\\\\        ///       =======')\n",
        "      print('|||            |||       |||       \\\\\\      ///        |||')\n",
        "      print('=====    ======         \\\\\\   ///         |||')\n",
        "      print('=====    ======          \\\\\\ ///          =======')"
      ],
      "execution_count": 50,
      "outputs": []
    },
    {
      "cell_type": "code",
      "metadata": {
        "id": "8ugXVb989T88",
        "outputId": "2f1d1485-9147-4cd2-c6d6-717e1340cff3",
        "colab": {
          "base_uri": "https://localhost:8080/"
        }
      },
      "source": [
        "print(draw_love())"
      ],
      "execution_count": 51,
      "outputs": [
        {
          "output_type": "stream",
          "text": [
            "|||            ======   \\\\               ///   =======\n",
            "|||            ======    \\\\             ///    |||\n",
            "|||            |||       |||     \\\\          ///      |||\n",
            "|||            |||       |||      \\\\        ///       =======\n",
            "|||            |||       |||       \\\\      ///        |||\n",
            "=====    ======         \\\\   ///         |||\n",
            "=====    ======          \\\\ ///          =======\n",
            "None\n"
          ],
          "name": "stdout"
        }
      ]
    },
    {
      "cell_type": "markdown",
      "metadata": {
        "id": "uwAzIzNO9a1J"
      },
      "source": [
        "### ลักษณะของ input(paramrter)\n",
        "\n",
        "\n",
        "\n",
        "\n",
        "*   จำเป็นต้องใส่\n",
        "*   ไม่จำเป็นต้องใส่"
      ]
    },
    {
      "cell_type": "code",
      "metadata": {
        "id": "DSPgraxw9dgq"
      },
      "source": [
        "def A(input1, input2=3):\n",
        "     return input1+input2"
      ],
      "execution_count": 52,
      "outputs": []
    },
    {
      "cell_type": "code",
      "metadata": {
        "id": "RiUkv0i79giS",
        "outputId": "cde7659e-c24e-4c72-cc8c-4e1a6f83337b",
        "colab": {
          "base_uri": "https://localhost:8080/"
        }
      },
      "source": [
        "A(1)   #ใส่แค่ input1 "
      ],
      "execution_count": 53,
      "outputs": [
        {
          "output_type": "execute_result",
          "data": {
            "text/plain": [
              "4"
            ]
          },
          "metadata": {
            "tags": []
          },
          "execution_count": 53
        }
      ]
    },
    {
      "cell_type": "code",
      "metadata": {
        "id": "-KG4qhhV9jZj",
        "outputId": "b1df80c2-64a9-4a03-f8d0-d499d69dad5e",
        "colab": {
          "base_uri": "https://localhost:8080/"
        }
      },
      "source": [
        "A(1,6)   #ใส่ทั้งสอง input"
      ],
      "execution_count": 54,
      "outputs": [
        {
          "output_type": "execute_result",
          "data": {
            "text/plain": [
              "7"
            ]
          },
          "metadata": {
            "tags": []
          },
          "execution_count": 54
        }
      ]
    },
    {
      "cell_type": "code",
      "metadata": {
        "id": "B7WISp1w9mZt"
      },
      "source": [
        "def printlove(input1, input2 = 'Stat', input3 = 'KKU'):\n",
        "      print(f'{input1} love {input2} {input3}')"
      ],
      "execution_count": 55,
      "outputs": []
    },
    {
      "cell_type": "code",
      "metadata": {
        "id": "LaVdwd7l9p38",
        "outputId": "55a50e7b-a27a-4168-b5e1-4215957bd5fc",
        "colab": {
          "base_uri": "https://localhost:8080/"
        }
      },
      "source": [
        "printlove('Nonttanont')"
      ],
      "execution_count": 56,
      "outputs": [
        {
          "output_type": "stream",
          "text": [
            "Nonttanont love Stat KKU\n"
          ],
          "name": "stdout"
        }
      ]
    },
    {
      "cell_type": "code",
      "metadata": {
        "id": "y4XGt__c9uKy",
        "outputId": "4abafc8a-ab98-4fb9-b3da-ab19059272d2",
        "colab": {
          "base_uri": "https://localhost:8080/"
        }
      },
      "source": [
        "printlove('Nonttanont','SI','Stat')"
      ],
      "execution_count": 57,
      "outputs": [
        {
          "output_type": "stream",
          "text": [
            "Nonttanont love SI Stat\n"
          ],
          "name": "stdout"
        }
      ]
    },
    {
      "cell_type": "code",
      "metadata": {
        "id": "UlU29rlD9xKk",
        "outputId": "942769d9-15f2-4700-d80a-6bdbada1ff24",
        "colab": {
          "base_uri": "https://localhost:8080/"
        }
      },
      "source": [
        "printlove(input3 = 'Nonttanont',input2 = 'SI', input1 = 'Stat')"
      ],
      "execution_count": 58,
      "outputs": [
        {
          "output_type": "stream",
          "text": [
            "Stat love SI Nonttanont\n"
          ],
          "name": "stdout"
        }
      ]
    },
    {
      "cell_type": "code",
      "metadata": {
        "id": "71Ds072T90S6",
        "outputId": "278e1d1f-3243-4e1e-bdd7-7a84c39a06de",
        "colab": {
          "base_uri": "https://localhost:8080/",
          "height": 129
        }
      },
      "source": [
        "def printlove(input2 = 'Stat', input1, input3 = 'KKU'):\n",
        "      print(f'{input1} love {input2} {input3}')"
      ],
      "execution_count": 59,
      "outputs": [
        {
          "output_type": "error",
          "ename": "SyntaxError",
          "evalue": "ignored",
          "traceback": [
            "\u001b[0;36m  File \u001b[0;32m\"<ipython-input-59-61426e01760d>\"\u001b[0;36m, line \u001b[0;32m1\u001b[0m\n\u001b[0;31m    def printlove(input2 = 'Stat', input1, input3 = 'KKU'):\u001b[0m\n\u001b[0m                 ^\u001b[0m\n\u001b[0;31mSyntaxError\u001b[0m\u001b[0;31m:\u001b[0m non-default argument follows default argument\n"
          ]
        }
      ]
    },
    {
      "cell_type": "markdown",
      "metadata": {
        "id": "9nbdlDeA99bJ"
      },
      "source": [
        "### Quiz2\n",
        "สร้างฟังก์ชัน\n",
        "\n",
        "\n",
        "*   วาดรูปบ้าน\n",
        "*   วาดรูปต้นไม้"
      ]
    },
    {
      "cell_type": "code",
      "metadata": {
        "id": "-fFauuYD-emW"
      },
      "source": [
        "def draw_house():\n",
        "      print('                             |   |')   \n",
        "      print('                             |   |')\n",
        "      print('=============    =======  ***********************                               ')\n",
        "      print('|||                           ____         |||   ***********************                          ')\n",
        "      print('|||                           |     |         ||| ((((((((((((((((    ))))))))))))))))                            ')\n",
        "      print('|||                           |___|         |||       (((((((((((    )))))))))))     ')\n",
        "      print('|||                                           |||          ((((((((     ))))))))               ')\n",
        "      print('|||                                           |||                  |      |                    ')\n",
        "      print('|||                                           |||                  |      |             ')\n",
        "      print('|||     ______                            |||                  |      |                   ')\n",
        "      print('|||    |         |                           |||                   |     |            ')\n",
        "      print('|||    |*       |                           |||                   |     |                   ')\n",
        "      print('|||__|_____|____________       |||                   |     |           ')"
      ],
      "execution_count": 60,
      "outputs": []
    },
    {
      "cell_type": "code",
      "metadata": {
        "id": "WQDdlC_M-lAM",
        "outputId": "ef47c80a-3949-47cd-ede4-65fc4461f5cf",
        "colab": {
          "base_uri": "https://localhost:8080/"
        }
      },
      "source": [
        "print(draw_house())"
      ],
      "execution_count": 61,
      "outputs": [
        {
          "output_type": "stream",
          "text": [
            "                             |   |\n",
            "                             |   |\n",
            "=============    =======  ***********************                               \n",
            "|||                           ____         |||   ***********************                          \n",
            "|||                           |     |         ||| ((((((((((((((((    ))))))))))))))))                            \n",
            "|||                           |___|         |||       (((((((((((    )))))))))))     \n",
            "|||                                           |||          ((((((((     ))))))))               \n",
            "|||                                           |||                  |      |                    \n",
            "|||                                           |||                  |      |             \n",
            "|||     ______                            |||                  |      |                   \n",
            "|||    |         |                           |||                   |     |            \n",
            "|||    |*       |                           |||                   |     |                   \n",
            "|||__|_____|____________       |||                   |     |           \n",
            "None\n"
          ],
          "name": "stdout"
        }
      ]
    }
  ]
}