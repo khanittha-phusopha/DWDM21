{
  "nbformat": 4,
  "nbformat_minor": 0,
  "metadata": {
    "colab": {
      "name": "Untitled20.ipynb",
      "provenance": [],
      "authorship_tag": "ABX9TyPXuENrf8f2hBwq5TaqHAwY",
      "include_colab_link": true
    },
    "kernelspec": {
      "name": "python3",
      "display_name": "Python 3"
    },
    "language_info": {
      "name": "python"
    }
  },
  "cells": [
    {
      "cell_type": "markdown",
      "metadata": {
        "id": "view-in-github",
        "colab_type": "text"
      },
      "source": [
        "<a href=\"https://colab.research.google.com/github/khanittha-phusopha/DWDM21/blob/main/Data102(Chapter2).ipynb\" target=\"_parent\"><img src=\"https://colab.research.google.com/assets/colab-badge.svg\" alt=\"Open In Colab\"/></a>"
      ]
    },
    {
      "cell_type": "markdown",
      "metadata": {
        "id": "a645RKsX_LDn"
      },
      "source": [
        "import pandas as pd # ข้อมูลลักษณะ ตาราง"
      ]
    },
    {
      "cell_type": "code",
      "metadata": {
        "id": "ppVUNBht_Q4k"
      },
      "source": [
        "from google.colab import drive\n",
        "drive.mount('/content/drive')"
      ],
      "execution_count": null,
      "outputs": []
    },
    {
      "cell_type": "code",
      "metadata": {
        "id": "ggKJwk-8_YIu"
      },
      "source": [
        "ls"
      ],
      "execution_count": null,
      "outputs": []
    },
    {
      "cell_type": "markdown",
      "metadata": {
        "id": "UsXj8VCE_fqe"
      },
      "source": [
        "import os # จัดการไฟล์และ path(ที่อยู่ของไฟล์)"
      ]
    },
    {
      "cell_type": "code",
      "metadata": {
        "id": "Fiaa7hh3_jUt"
      },
      "source": [
        "path = '/content/drive/My Drive/DWDM2021_DATA'"
      ],
      "execution_count": null,
      "outputs": []
    },
    {
      "cell_type": "code",
      "metadata": {
        "id": "UEJlRTp7_neR"
      },
      "source": [
        "data = pd.read_csv(os.path.join(path,'thailand_covid-19_testing_data.csv'))\n",
        "data"
      ],
      "execution_count": null,
      "outputs": []
    }
  ]
}